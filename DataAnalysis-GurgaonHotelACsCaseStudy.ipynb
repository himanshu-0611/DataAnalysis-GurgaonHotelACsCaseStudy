{
  "nbformat": 4,
  "nbformat_minor": 0,
  "metadata": {
    "colab": {
      "name": "DataAnalysis_ GurgaonHotelACsCaseStudy.ipynb",
      "provenance": [],
      "collapsed_sections": [],
      "mount_file_id": "1eGFfgWhe7Q3q6MUd-N6OkjzIHtaR5qsp",
      "authorship_tag": "ABX9TyNCe+9Ty/ThwAicrXgNryne",
      "include_colab_link": true
    },
    "kernelspec": {
      "name": "python3",
      "display_name": "Python 3"
    },
    "language_info": {
      "name": "python"
    }
  },
  "cells": [
    {
      "cell_type": "markdown",
      "metadata": {
        "id": "view-in-github",
        "colab_type": "text"
      },
      "source": [
        "<a href=\"https://colab.research.google.com/github/himanshu-0611/DataAnalysis-GurgaonHotelACsCaseStudy/blob/main/DataAnalysis-GurgaonHotelACsCaseStudy.ipynb\" target=\"_parent\"><img src=\"https://colab.research.google.com/assets/colab-badge.svg\" alt=\"Open In Colab\"/></a>"
      ]
    },
    {
      "cell_type": "markdown",
      "source": [
        "# **Zenatix Solutions | Gurgaon Hotel ACs Case Study**"
      ],
      "metadata": {
        "id": "-tMTL2X0_4WE"
      }
    },
    {
      "cell_type": "markdown",
      "source": [
        "## **Author: Himanshu Agarkar**"
      ],
      "metadata": {
        "id": "3__qT3IVAWOC"
      }
    },
    {
      "cell_type": "markdown",
      "source": [
        "### *Domain: Data Analysis*"
      ],
      "metadata": {
        "id": "H1KEmemIAel9"
      }
    },
    {
      "cell_type": "code",
      "source": [
        "#importing requited libraries\n",
        "\n",
        "import numpy as np\n",
        "import pandas as pd\n",
        "%matplotlib inline\n",
        "import matplotlib.pyplot as plt\n",
        "import requests\n",
        "from bs4 import BeautifulSoup\n",
        "from sklearn.model_selection import train_test_split\n",
        "from sklearn.linear_model import LinearRegression"
      ],
      "metadata": {
        "id": "KgZV530VAtjI"
      },
      "execution_count": null,
      "outputs": []
    },
    {
      "cell_type": "markdown",
      "source": [
        "#### **Step 1: Reading the data from source**"
      ],
      "metadata": {
        "id": "Rj-_0tTFBROk"
      }
    },
    {
      "cell_type": "code",
      "source": [
        "#mounting drive\n",
        "\n",
        "from google.colab import drive\n",
        "drive.mount('/content/drive')"
      ],
      "metadata": {
        "id": "fYFp9_6VCUnp",
        "colab": {
          "base_uri": "https://localhost:8080/"
        },
        "outputId": "a8336daa-fe1d-49f8-af15-65d71251f2b9"
      },
      "execution_count": null,
      "outputs": [
        {
          "output_type": "stream",
          "name": "stdout",
          "text": [
            "Drive already mounted at /content/drive; to attempt to forcibly remount, call drive.mount(\"/content/drive\", force_remount=True).\n"
          ]
        }
      ]
    },
    {
      "cell_type": "code",
      "source": [
        "#reading the data from csv file\n",
        "\n",
        "path = \"/content/drive/MyDrive/AC_Data.csv\"\n",
        "df = pd.read_csv(path)\n",
        "\n",
        "#dataset is now stored in pandas dataframe\n",
        "\n",
        "df"
      ],
      "metadata": {
        "colab": {
          "base_uri": "https://localhost:8080/",
          "height": 424
        },
        "id": "XDS3GsJ4Gtl0",
        "outputId": "fd1539b2-ec58-4d23-8863-a4a397257125"
      },
      "execution_count": null,
      "outputs": [
        {
          "output_type": "execute_result",
          "data": {
            "text/html": [
              "<div>\n",
              "<style scoped>\n",
              "    .dataframe tbody tr th:only-of-type {\n",
              "        vertical-align: middle;\n",
              "    }\n",
              "\n",
              "    .dataframe tbody tr th {\n",
              "        vertical-align: top;\n",
              "    }\n",
              "\n",
              "    .dataframe thead th {\n",
              "        text-align: right;\n",
              "    }\n",
              "</style>\n",
              "<table border=\"1\" class=\"dataframe\">\n",
              "  <thead>\n",
              "    <tr style=\"text-align: right;\">\n",
              "      <th></th>\n",
              "      <th>0</th>\n",
              "      <th>AC 1</th>\n",
              "      <th>AC 2</th>\n",
              "      <th>AC 3</th>\n",
              "      <th>AC 4</th>\n",
              "      <th>AC 5</th>\n",
              "      <th>AC 6</th>\n",
              "      <th>AC 7</th>\n",
              "      <th>AC 8</th>\n",
              "      <th>AC 9</th>\n",
              "      <th>AC 10</th>\n",
              "      <th>AC 11</th>\n",
              "      <th>AC 12</th>\n",
              "      <th>AC 13</th>\n",
              "      <th>AC 14</th>\n",
              "      <th>AC 15</th>\n",
              "      <th>AC 16</th>\n",
              "      <th>AC 17</th>\n",
              "      <th>AC 18</th>\n",
              "    </tr>\n",
              "  </thead>\n",
              "  <tbody>\n",
              "    <tr>\n",
              "      <th>0</th>\n",
              "      <td>2019-08-01 00:00:00</td>\n",
              "      <td>7.518632</td>\n",
              "      <td>8.788315</td>\n",
              "      <td>0.000000</td>\n",
              "      <td>0.000000</td>\n",
              "      <td>2.617045</td>\n",
              "      <td>4.079041</td>\n",
              "      <td>2.782276</td>\n",
              "      <td>4.624447</td>\n",
              "      <td>5.222060</td>\n",
              "      <td>2.151238</td>\n",
              "      <td>1.585072</td>\n",
              "      <td>0.560373</td>\n",
              "      <td>3.142941</td>\n",
              "      <td>2.749470</td>\n",
              "      <td>5.417774</td>\n",
              "      <td>4.113460</td>\n",
              "      <td>3.305072</td>\n",
              "      <td>6.735981</td>\n",
              "    </tr>\n",
              "    <tr>\n",
              "      <th>1</th>\n",
              "      <td>2019-08-01 00:01:00</td>\n",
              "      <td>NaN</td>\n",
              "      <td>NaN</td>\n",
              "      <td>NaN</td>\n",
              "      <td>NaN</td>\n",
              "      <td>NaN</td>\n",
              "      <td>NaN</td>\n",
              "      <td>NaN</td>\n",
              "      <td>NaN</td>\n",
              "      <td>NaN</td>\n",
              "      <td>NaN</td>\n",
              "      <td>NaN</td>\n",
              "      <td>NaN</td>\n",
              "      <td>NaN</td>\n",
              "      <td>NaN</td>\n",
              "      <td>NaN</td>\n",
              "      <td>NaN</td>\n",
              "      <td>NaN</td>\n",
              "      <td>NaN</td>\n",
              "    </tr>\n",
              "    <tr>\n",
              "      <th>2</th>\n",
              "      <td>2019-08-01 00:02:00</td>\n",
              "      <td>7.426114</td>\n",
              "      <td>8.940615</td>\n",
              "      <td>0.000000</td>\n",
              "      <td>0.000000</td>\n",
              "      <td>2.581625</td>\n",
              "      <td>3.781231</td>\n",
              "      <td>2.529366</td>\n",
              "      <td>5.057423</td>\n",
              "      <td>5.349465</td>\n",
              "      <td>2.414715</td>\n",
              "      <td>2.168184</td>\n",
              "      <td>1.818730</td>\n",
              "      <td>3.085110</td>\n",
              "      <td>2.720484</td>\n",
              "      <td>3.302422</td>\n",
              "      <td>3.986483</td>\n",
              "      <td>3.220588</td>\n",
              "      <td>6.379500</td>\n",
              "    </tr>\n",
              "    <tr>\n",
              "      <th>3</th>\n",
              "      <td>2019-08-01 00:03:00</td>\n",
              "      <td>NaN</td>\n",
              "      <td>NaN</td>\n",
              "      <td>NaN</td>\n",
              "      <td>NaN</td>\n",
              "      <td>NaN</td>\n",
              "      <td>NaN</td>\n",
              "      <td>NaN</td>\n",
              "      <td>NaN</td>\n",
              "      <td>NaN</td>\n",
              "      <td>NaN</td>\n",
              "      <td>NaN</td>\n",
              "      <td>NaN</td>\n",
              "      <td>NaN</td>\n",
              "      <td>NaN</td>\n",
              "      <td>NaN</td>\n",
              "      <td>NaN</td>\n",
              "      <td>NaN</td>\n",
              "      <td>NaN</td>\n",
              "    </tr>\n",
              "    <tr>\n",
              "      <th>4</th>\n",
              "      <td>2019-08-01 00:04:00</td>\n",
              "      <td>7.052986</td>\n",
              "      <td>9.161103</td>\n",
              "      <td>0.000000</td>\n",
              "      <td>0.000000</td>\n",
              "      <td>2.592095</td>\n",
              "      <td>3.800127</td>\n",
              "      <td>2.332304</td>\n",
              "      <td>6.322521</td>\n",
              "      <td>3.995392</td>\n",
              "      <td>2.237114</td>\n",
              "      <td>3.345624</td>\n",
              "      <td>2.310409</td>\n",
              "      <td>3.132799</td>\n",
              "      <td>2.676861</td>\n",
              "      <td>3.539026</td>\n",
              "      <td>3.797881</td>\n",
              "      <td>3.131560</td>\n",
              "      <td>6.363475</td>\n",
              "    </tr>\n",
              "    <tr>\n",
              "      <th>...</th>\n",
              "      <td>...</td>\n",
              "      <td>...</td>\n",
              "      <td>...</td>\n",
              "      <td>...</td>\n",
              "      <td>...</td>\n",
              "      <td>...</td>\n",
              "      <td>...</td>\n",
              "      <td>...</td>\n",
              "      <td>...</td>\n",
              "      <td>...</td>\n",
              "      <td>...</td>\n",
              "      <td>...</td>\n",
              "      <td>...</td>\n",
              "      <td>...</td>\n",
              "      <td>...</td>\n",
              "      <td>...</td>\n",
              "      <td>...</td>\n",
              "      <td>...</td>\n",
              "      <td>...</td>\n",
              "    </tr>\n",
              "    <tr>\n",
              "      <th>87835</th>\n",
              "      <td>2019-09-30 23:55:00</td>\n",
              "      <td>0.000000</td>\n",
              "      <td>6.122385</td>\n",
              "      <td>2.192198</td>\n",
              "      <td>2.083315</td>\n",
              "      <td>1.046250</td>\n",
              "      <td>0.000000</td>\n",
              "      <td>3.668421</td>\n",
              "      <td>3.006311</td>\n",
              "      <td>3.614301</td>\n",
              "      <td>1.860847</td>\n",
              "      <td>5.019769</td>\n",
              "      <td>3.154221</td>\n",
              "      <td>3.648026</td>\n",
              "      <td>2.439526</td>\n",
              "      <td>4.062719</td>\n",
              "      <td>1.854352</td>\n",
              "      <td>3.027539</td>\n",
              "      <td>7.259989</td>\n",
              "    </tr>\n",
              "    <tr>\n",
              "      <th>87836</th>\n",
              "      <td>2019-09-30 23:56:00</td>\n",
              "      <td>NaN</td>\n",
              "      <td>NaN</td>\n",
              "      <td>NaN</td>\n",
              "      <td>NaN</td>\n",
              "      <td>NaN</td>\n",
              "      <td>NaN</td>\n",
              "      <td>NaN</td>\n",
              "      <td>NaN</td>\n",
              "      <td>NaN</td>\n",
              "      <td>NaN</td>\n",
              "      <td>NaN</td>\n",
              "      <td>NaN</td>\n",
              "      <td>NaN</td>\n",
              "      <td>NaN</td>\n",
              "      <td>NaN</td>\n",
              "      <td>NaN</td>\n",
              "      <td>NaN</td>\n",
              "      <td>NaN</td>\n",
              "    </tr>\n",
              "    <tr>\n",
              "      <th>87837</th>\n",
              "      <td>2019-09-30 23:57:00</td>\n",
              "      <td>1.209176</td>\n",
              "      <td>6.152532</td>\n",
              "      <td>2.211421</td>\n",
              "      <td>0.000000</td>\n",
              "      <td>1.448103</td>\n",
              "      <td>0.000000</td>\n",
              "      <td>3.151248</td>\n",
              "      <td>2.871690</td>\n",
              "      <td>3.417942</td>\n",
              "      <td>2.185493</td>\n",
              "      <td>5.174168</td>\n",
              "      <td>2.772349</td>\n",
              "      <td>3.786657</td>\n",
              "      <td>2.060023</td>\n",
              "      <td>4.057525</td>\n",
              "      <td>1.870886</td>\n",
              "      <td>2.991946</td>\n",
              "      <td>7.134647</td>\n",
              "    </tr>\n",
              "    <tr>\n",
              "      <th>87838</th>\n",
              "      <td>2019-09-30 23:58:00</td>\n",
              "      <td>NaN</td>\n",
              "      <td>NaN</td>\n",
              "      <td>NaN</td>\n",
              "      <td>NaN</td>\n",
              "      <td>NaN</td>\n",
              "      <td>NaN</td>\n",
              "      <td>NaN</td>\n",
              "      <td>NaN</td>\n",
              "      <td>NaN</td>\n",
              "      <td>NaN</td>\n",
              "      <td>NaN</td>\n",
              "      <td>NaN</td>\n",
              "      <td>NaN</td>\n",
              "      <td>NaN</td>\n",
              "      <td>NaN</td>\n",
              "      <td>NaN</td>\n",
              "      <td>NaN</td>\n",
              "      <td>NaN</td>\n",
              "    </tr>\n",
              "    <tr>\n",
              "      <th>87839</th>\n",
              "      <td>2019-09-30 23:59:00</td>\n",
              "      <td>1.430442</td>\n",
              "      <td>6.078281</td>\n",
              "      <td>1.891162</td>\n",
              "      <td>0.000000</td>\n",
              "      <td>1.577491</td>\n",
              "      <td>4.364239</td>\n",
              "      <td>3.126339</td>\n",
              "      <td>3.287224</td>\n",
              "      <td>3.986978</td>\n",
              "      <td>2.013912</td>\n",
              "      <td>4.821829</td>\n",
              "      <td>3.363855</td>\n",
              "      <td>3.380110</td>\n",
              "      <td>1.949240</td>\n",
              "      <td>4.026304</td>\n",
              "      <td>1.862166</td>\n",
              "      <td>3.009434</td>\n",
              "      <td>7.179719</td>\n",
              "    </tr>\n",
              "  </tbody>\n",
              "</table>\n",
              "<p>87840 rows × 19 columns</p>\n",
              "</div>"
            ],
            "text/plain": [
              "                         0      AC 1      AC 2  ...     AC 16     AC 17     AC 18\n",
              "0      2019-08-01 00:00:00  7.518632  8.788315  ...  4.113460  3.305072  6.735981\n",
              "1      2019-08-01 00:01:00       NaN       NaN  ...       NaN       NaN       NaN\n",
              "2      2019-08-01 00:02:00  7.426114  8.940615  ...  3.986483  3.220588  6.379500\n",
              "3      2019-08-01 00:03:00       NaN       NaN  ...       NaN       NaN       NaN\n",
              "4      2019-08-01 00:04:00  7.052986  9.161103  ...  3.797881  3.131560  6.363475\n",
              "...                    ...       ...       ...  ...       ...       ...       ...\n",
              "87835  2019-09-30 23:55:00  0.000000  6.122385  ...  1.854352  3.027539  7.259989\n",
              "87836  2019-09-30 23:56:00       NaN       NaN  ...       NaN       NaN       NaN\n",
              "87837  2019-09-30 23:57:00  1.209176  6.152532  ...  1.870886  2.991946  7.134647\n",
              "87838  2019-09-30 23:58:00       NaN       NaN  ...       NaN       NaN       NaN\n",
              "87839  2019-09-30 23:59:00  1.430442  6.078281  ...  1.862166  3.009434  7.179719\n",
              "\n",
              "[87840 rows x 19 columns]"
            ]
          },
          "metadata": {},
          "execution_count": 3
        }
      ]
    },
    {
      "cell_type": "code",
      "source": [
        "#finding total numbers of elements in dataframe\n",
        "df.size"
      ],
      "metadata": {
        "id": "IE1UFl-LHcC4",
        "colab": {
          "base_uri": "https://localhost:8080/"
        },
        "outputId": "736860bd-890f-477f-f5dc-0243a3eeae9e"
      },
      "execution_count": null,
      "outputs": [
        {
          "output_type": "execute_result",
          "data": {
            "text/plain": [
              "1668960"
            ]
          },
          "metadata": {},
          "execution_count": 4
        }
      ]
    },
    {
      "cell_type": "code",
      "source": [
        "#representing dimensionality of data frame\n",
        "df.shape"
      ],
      "metadata": {
        "colab": {
          "base_uri": "https://localhost:8080/"
        },
        "id": "tU0sm_Fa8C-C",
        "outputId": "6e0046d1-5b81-46c7-a696-88d95b0181b2"
      },
      "execution_count": null,
      "outputs": [
        {
          "output_type": "execute_result",
          "data": {
            "text/plain": [
              "(87840, 19)"
            ]
          },
          "metadata": {},
          "execution_count": 5
        }
      ]
    },
    {
      "cell_type": "code",
      "source": [
        "#detecting missing values\n",
        "df.isnull().sum()"
      ],
      "metadata": {
        "colab": {
          "base_uri": "https://localhost:8080/"
        },
        "id": "KAXQvmMB8IXz",
        "outputId": "dc764d3d-c942-46d2-af14-2f5b7da965df"
      },
      "execution_count": null,
      "outputs": [
        {
          "output_type": "execute_result",
          "data": {
            "text/plain": [
              "0            0\n",
              "AC 1     44132\n",
              "AC 2     44129\n",
              "AC 3     44127\n",
              "AC 4     44136\n",
              "AC 5     44124\n",
              "AC 6     44123\n",
              "AC 7     44161\n",
              "AC 8     44136\n",
              "AC 9     44186\n",
              "AC 10    44150\n",
              "AC 11    44170\n",
              "AC 12    44127\n",
              "AC 13    44121\n",
              "AC 14    44144\n",
              "AC 15    44125\n",
              "AC 16    44130\n",
              "AC 17    44126\n",
              "AC 18    44117\n",
              "dtype: int64"
            ]
          },
          "metadata": {},
          "execution_count": 6
        }
      ]
    },
    {
      "cell_type": "code",
      "source": [
        "#printing consise summary of a data frame\n",
        "df.info()"
      ],
      "metadata": {
        "colab": {
          "base_uri": "https://localhost:8080/"
        },
        "id": "HR1fVLU49uCA",
        "outputId": "d6dd849a-6fc8-44a1-d5c0-72f9e9eaef26"
      },
      "execution_count": null,
      "outputs": [
        {
          "output_type": "stream",
          "name": "stdout",
          "text": [
            "<class 'pandas.core.frame.DataFrame'>\n",
            "RangeIndex: 87840 entries, 0 to 87839\n",
            "Data columns (total 19 columns):\n",
            " #   Column  Non-Null Count  Dtype  \n",
            "---  ------  --------------  -----  \n",
            " 0   0       87840 non-null  object \n",
            " 1   AC 1    43708 non-null  float64\n",
            " 2   AC 2    43711 non-null  float64\n",
            " 3   AC 3    43713 non-null  float64\n",
            " 4   AC 4    43704 non-null  float64\n",
            " 5   AC 5    43716 non-null  float64\n",
            " 6   AC 6    43717 non-null  float64\n",
            " 7   AC 7    43679 non-null  float64\n",
            " 8   AC 8    43704 non-null  float64\n",
            " 9   AC 9    43654 non-null  float64\n",
            " 10  AC 10   43690 non-null  float64\n",
            " 11  AC 11   43670 non-null  float64\n",
            " 12  AC 12   43713 non-null  float64\n",
            " 13  AC 13   43719 non-null  float64\n",
            " 14  AC 14   43696 non-null  float64\n",
            " 15  AC 15   43715 non-null  float64\n",
            " 16  AC 16   43710 non-null  float64\n",
            " 17  AC 17   43714 non-null  float64\n",
            " 18  AC 18   43723 non-null  float64\n",
            "dtypes: float64(18), object(1)\n",
            "memory usage: 12.7+ MB\n"
          ]
        }
      ]
    },
    {
      "cell_type": "code",
      "source": [
        "#generate descriptive statistics\n",
        "df.describe()"
      ],
      "metadata": {
        "colab": {
          "base_uri": "https://localhost:8080/",
          "height": 320
        },
        "id": "Cby4yLOy9_s9",
        "outputId": "6268a63f-5bf2-43c1-a4d2-394b26a841cd"
      },
      "execution_count": null,
      "outputs": [
        {
          "output_type": "execute_result",
          "data": {
            "text/html": [
              "<div>\n",
              "<style scoped>\n",
              "    .dataframe tbody tr th:only-of-type {\n",
              "        vertical-align: middle;\n",
              "    }\n",
              "\n",
              "    .dataframe tbody tr th {\n",
              "        vertical-align: top;\n",
              "    }\n",
              "\n",
              "    .dataframe thead th {\n",
              "        text-align: right;\n",
              "    }\n",
              "</style>\n",
              "<table border=\"1\" class=\"dataframe\">\n",
              "  <thead>\n",
              "    <tr style=\"text-align: right;\">\n",
              "      <th></th>\n",
              "      <th>AC 1</th>\n",
              "      <th>AC 2</th>\n",
              "      <th>AC 3</th>\n",
              "      <th>AC 4</th>\n",
              "      <th>AC 5</th>\n",
              "      <th>AC 6</th>\n",
              "      <th>AC 7</th>\n",
              "      <th>AC 8</th>\n",
              "      <th>AC 9</th>\n",
              "      <th>AC 10</th>\n",
              "      <th>AC 11</th>\n",
              "      <th>AC 12</th>\n",
              "      <th>AC 13</th>\n",
              "      <th>AC 14</th>\n",
              "      <th>AC 15</th>\n",
              "      <th>AC 16</th>\n",
              "      <th>AC 17</th>\n",
              "      <th>AC 18</th>\n",
              "    </tr>\n",
              "  </thead>\n",
              "  <tbody>\n",
              "    <tr>\n",
              "      <th>count</th>\n",
              "      <td>43708.000000</td>\n",
              "      <td>43711.000000</td>\n",
              "      <td>43713.000000</td>\n",
              "      <td>43704.000000</td>\n",
              "      <td>43716.000000</td>\n",
              "      <td>43717.000000</td>\n",
              "      <td>43679.000000</td>\n",
              "      <td>43704.000000</td>\n",
              "      <td>43654.000000</td>\n",
              "      <td>43690.000000</td>\n",
              "      <td>43670.000000</td>\n",
              "      <td>43713.000000</td>\n",
              "      <td>43719.000000</td>\n",
              "      <td>43696.000000</td>\n",
              "      <td>43715.000000</td>\n",
              "      <td>43710.000000</td>\n",
              "      <td>43714.000000</td>\n",
              "      <td>43723.000000</td>\n",
              "    </tr>\n",
              "    <tr>\n",
              "      <th>mean</th>\n",
              "      <td>2.379368</td>\n",
              "      <td>3.868892</td>\n",
              "      <td>2.568411</td>\n",
              "      <td>2.395158</td>\n",
              "      <td>1.421699</td>\n",
              "      <td>2.518138</td>\n",
              "      <td>2.980883</td>\n",
              "      <td>2.548711</td>\n",
              "      <td>3.184382</td>\n",
              "      <td>1.538344</td>\n",
              "      <td>2.406141</td>\n",
              "      <td>2.699639</td>\n",
              "      <td>4.279893</td>\n",
              "      <td>2.917122</td>\n",
              "      <td>4.046283</td>\n",
              "      <td>2.800050</td>\n",
              "      <td>4.218979</td>\n",
              "      <td>6.462676</td>\n",
              "    </tr>\n",
              "    <tr>\n",
              "      <th>std</th>\n",
              "      <td>2.276782</td>\n",
              "      <td>2.545147</td>\n",
              "      <td>1.487508</td>\n",
              "      <td>1.797529</td>\n",
              "      <td>0.767218</td>\n",
              "      <td>1.655560</td>\n",
              "      <td>1.473498</td>\n",
              "      <td>1.504482</td>\n",
              "      <td>1.522291</td>\n",
              "      <td>0.685461</td>\n",
              "      <td>1.554481</td>\n",
              "      <td>1.436087</td>\n",
              "      <td>1.847168</td>\n",
              "      <td>1.454946</td>\n",
              "      <td>2.016898</td>\n",
              "      <td>1.606239</td>\n",
              "      <td>1.125491</td>\n",
              "      <td>2.319242</td>\n",
              "    </tr>\n",
              "    <tr>\n",
              "      <th>min</th>\n",
              "      <td>0.000000</td>\n",
              "      <td>0.000000</td>\n",
              "      <td>0.000000</td>\n",
              "      <td>0.000000</td>\n",
              "      <td>0.000000</td>\n",
              "      <td>0.000000</td>\n",
              "      <td>0.000000</td>\n",
              "      <td>0.000000</td>\n",
              "      <td>0.000000</td>\n",
              "      <td>0.000000</td>\n",
              "      <td>0.000000</td>\n",
              "      <td>0.000000</td>\n",
              "      <td>0.000000</td>\n",
              "      <td>0.000000</td>\n",
              "      <td>0.000000</td>\n",
              "      <td>0.000000</td>\n",
              "      <td>0.000000</td>\n",
              "      <td>0.000000</td>\n",
              "    </tr>\n",
              "    <tr>\n",
              "      <th>25%</th>\n",
              "      <td>0.000000</td>\n",
              "      <td>2.123263</td>\n",
              "      <td>1.706508</td>\n",
              "      <td>1.258299</td>\n",
              "      <td>0.970744</td>\n",
              "      <td>1.543779</td>\n",
              "      <td>2.190803</td>\n",
              "      <td>1.766230</td>\n",
              "      <td>2.294635</td>\n",
              "      <td>1.117139</td>\n",
              "      <td>1.591748</td>\n",
              "      <td>1.949729</td>\n",
              "      <td>3.260674</td>\n",
              "      <td>1.852981</td>\n",
              "      <td>3.023501</td>\n",
              "      <td>1.877626</td>\n",
              "      <td>3.752478</td>\n",
              "      <td>4.013579</td>\n",
              "    </tr>\n",
              "    <tr>\n",
              "      <th>50%</th>\n",
              "      <td>2.094330</td>\n",
              "      <td>3.791752</td>\n",
              "      <td>2.486992</td>\n",
              "      <td>2.308961</td>\n",
              "      <td>1.380183</td>\n",
              "      <td>2.665063</td>\n",
              "      <td>3.005071</td>\n",
              "      <td>2.608551</td>\n",
              "      <td>3.082134</td>\n",
              "      <td>1.504554</td>\n",
              "      <td>2.351361</td>\n",
              "      <td>2.727152</td>\n",
              "      <td>4.217381</td>\n",
              "      <td>2.787084</td>\n",
              "      <td>4.001279</td>\n",
              "      <td>2.673698</td>\n",
              "      <td>4.611434</td>\n",
              "      <td>7.131194</td>\n",
              "    </tr>\n",
              "    <tr>\n",
              "      <th>75%</th>\n",
              "      <td>3.661752</td>\n",
              "      <td>5.460892</td>\n",
              "      <td>3.441527</td>\n",
              "      <td>3.476123</td>\n",
              "      <td>1.870234</td>\n",
              "      <td>3.616988</td>\n",
              "      <td>3.897857</td>\n",
              "      <td>3.496358</td>\n",
              "      <td>4.096374</td>\n",
              "      <td>1.963707</td>\n",
              "      <td>3.254937</td>\n",
              "      <td>3.566744</td>\n",
              "      <td>5.379832</td>\n",
              "      <td>3.824467</td>\n",
              "      <td>5.260193</td>\n",
              "      <td>3.695294</td>\n",
              "      <td>4.958306</td>\n",
              "      <td>8.314639</td>\n",
              "    </tr>\n",
              "    <tr>\n",
              "      <th>max</th>\n",
              "      <td>11.194789</td>\n",
              "      <td>11.147141</td>\n",
              "      <td>8.430909</td>\n",
              "      <td>9.879500</td>\n",
              "      <td>5.495358</td>\n",
              "      <td>9.929291</td>\n",
              "      <td>9.356776</td>\n",
              "      <td>9.331506</td>\n",
              "      <td>10.026747</td>\n",
              "      <td>4.625030</td>\n",
              "      <td>10.363151</td>\n",
              "      <td>9.887306</td>\n",
              "      <td>9.796393</td>\n",
              "      <td>9.054969</td>\n",
              "      <td>10.349998</td>\n",
              "      <td>10.654430</td>\n",
              "      <td>5.950261</td>\n",
              "      <td>11.040031</td>\n",
              "    </tr>\n",
              "  </tbody>\n",
              "</table>\n",
              "</div>"
            ],
            "text/plain": [
              "               AC 1          AC 2  ...         AC 17         AC 18\n",
              "count  43708.000000  43711.000000  ...  43714.000000  43723.000000\n",
              "mean       2.379368      3.868892  ...      4.218979      6.462676\n",
              "std        2.276782      2.545147  ...      1.125491      2.319242\n",
              "min        0.000000      0.000000  ...      0.000000      0.000000\n",
              "25%        0.000000      2.123263  ...      3.752478      4.013579\n",
              "50%        2.094330      3.791752  ...      4.611434      7.131194\n",
              "75%        3.661752      5.460892  ...      4.958306      8.314639\n",
              "max       11.194789     11.147141  ...      5.950261     11.040031\n",
              "\n",
              "[8 rows x 18 columns]"
            ]
          },
          "metadata": {},
          "execution_count": 8
        }
      ]
    },
    {
      "cell_type": "markdown",
      "source": [
        "**AC which was Used the Most & the Least**"
      ],
      "metadata": {
        "id": "wy1QdVxc-4cV"
      }
    },
    {
      "cell_type": "code",
      "source": [
        "#summation of all the elements of each column\n",
        "df.sum(axis = 0)"
      ],
      "metadata": {
        "colab": {
          "base_uri": "https://localhost:8080/"
        },
        "id": "BPQtl2ZCAVNv",
        "outputId": "71e665cf-9bf7-4672-e9e5-c3f84d075f29"
      },
      "execution_count": null,
      "outputs": [
        {
          "output_type": "execute_result",
          "data": {
            "text/plain": [
              "0        2019-08-01 00:00:002019-08-01 00:01:002019-08-...\n",
              "AC 1                                                103997\n",
              "AC 2                                                169113\n",
              "AC 3                                                112273\n",
              "AC 4                                                104678\n",
              "AC 5                                                 62151\n",
              "AC 6                                                110085\n",
              "AC 7                                                130202\n",
              "AC 8                                                111389\n",
              "AC 9                                                139011\n",
              "AC 10                                              67210.2\n",
              "AC 11                                               105076\n",
              "AC 12                                               118009\n",
              "AC 13                                               187113\n",
              "AC 14                                               127467\n",
              "AC 15                                               176883\n",
              "AC 16                                               122390\n",
              "AC 17                                               184428\n",
              "AC 18                                               282568\n",
              "dtype: object"
            ]
          },
          "metadata": {},
          "execution_count": 9
        }
      ]
    },
    {
      "cell_type": "code",
      "source": [
        "#finding out mean of each column repectively\n",
        "df.mean(axis = 0)"
      ],
      "metadata": {
        "colab": {
          "base_uri": "https://localhost:8080/"
        },
        "id": "1wxgCF84BbW9",
        "outputId": "36b9a812-9429-4eda-ed9f-c812f96f6603"
      },
      "execution_count": null,
      "outputs": [
        {
          "output_type": "execute_result",
          "data": {
            "text/plain": [
              "AC 1     2.379368\n",
              "AC 2     3.868892\n",
              "AC 3     2.568411\n",
              "AC 4     2.395158\n",
              "AC 5     1.421699\n",
              "AC 6     2.518138\n",
              "AC 7     2.980883\n",
              "AC 8     2.548711\n",
              "AC 9     3.184382\n",
              "AC 10    1.538344\n",
              "AC 11    2.406141\n",
              "AC 12    2.699639\n",
              "AC 13    4.279893\n",
              "AC 14    2.917122\n",
              "AC 15    4.046283\n",
              "AC 16    2.800050\n",
              "AC 17    4.218979\n",
              "AC 18    6.462676\n",
              "dtype: float64"
            ]
          },
          "metadata": {},
          "execution_count": 10
        }
      ]
    },
    {
      "cell_type": "code",
      "source": [
        "#the AC with lowest usage\n",
        "df.mean(axis = 0).idxmin()"
      ],
      "metadata": {
        "colab": {
          "base_uri": "https://localhost:8080/",
          "height": 36
        },
        "id": "98F8Ob8QCbHc",
        "outputId": "d705029b-12f0-4dd2-b138-1f53cfe9b8cc"
      },
      "execution_count": null,
      "outputs": [
        {
          "output_type": "execute_result",
          "data": {
            "application/vnd.google.colaboratory.intrinsic+json": {
              "type": "string"
            },
            "text/plain": [
              "'AC 5'"
            ]
          },
          "metadata": {},
          "execution_count": 11
        }
      ]
    },
    {
      "cell_type": "markdown",
      "source": [
        "**The AC with lowest mean with will have lowest usage and that with highest mean will have highest.**<br>Thus, using\n",
        "\n",
        "```\n",
        "df.mean(axis = 0).idxmin()\n",
        "```\n",
        "We can print the AC with lowest usage: **AC 5**.<br>\n",
        "Further observing, we can say that the AC with highest usage is **AC 18**\n",
        "\n"
      ],
      "metadata": {
        "id": "g2X6cj5MQOMX"
      }
    },
    {
      "cell_type": "markdown",
      "source": [
        "#### **Step 2: Importing a Different Dataframe into our Notebook** <br>\n",
        "Link to the dataframe: https://www.kaggle.com/sudalairajkumar/daily-temperature-of-major-cities\n"
      ],
      "metadata": {
        "id": "mfG20CSF_dKR"
      }
    },
    {
      "cell_type": "code",
      "source": [
        "#install Kaggle\n",
        "!pip install -q kaggle"
      ],
      "metadata": {
        "id": "iRabyQFT2Pzu"
      },
      "execution_count": null,
      "outputs": []
    },
    {
      "cell_type": "code",
      "source": [
        "from google.colab import files\n",
        "files.upload()"
      ],
      "metadata": {
        "colab": {
          "resources": {
            "http://localhost:8080/nbextensions/google.colab/files.js": {
              "data": "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",
              "ok": true,
              "headers": [
                [
                  "content-type",
                  "application/javascript"
                ]
              ],
              "status": 200,
              "status_text": "OK"
            }
          },
          "base_uri": "https://localhost:8080/",
          "height": 39
        },
        "id": "UF3WVJBB4usO",
        "outputId": "c8cdff26-9b8f-4ad5-dbaa-7c36166141b2"
      },
      "execution_count": null,
      "outputs": [
        {
          "output_type": "display_data",
          "data": {
            "text/html": [
              "\n",
              "     <input type=\"file\" id=\"files-f3d071fc-52c9-4381-a803-24f8dcbba5b9\" name=\"files[]\" multiple disabled\n",
              "        style=\"border:none\" />\n",
              "     <output id=\"result-f3d071fc-52c9-4381-a803-24f8dcbba5b9\">\n",
              "      Upload widget is only available when the cell has been executed in the\n",
              "      current browser session. Please rerun this cell to enable.\n",
              "      </output>\n",
              "      <script src=\"/nbextensions/google.colab/files.js\"></script> "
            ],
            "text/plain": [
              "<IPython.core.display.HTML object>"
            ]
          },
          "metadata": {}
        }
      ]
    },
    {
      "cell_type": "code",
      "source": [
        "#create a kaggle folder\n",
        "! mkdir ~/.kaggle"
      ],
      "metadata": {
        "id": "9NMkYYyJ47X5"
      },
      "execution_count": null,
      "outputs": []
    },
    {
      "cell_type": "code",
      "source": [
        "#copy the kaggle.jason to folder create\n",
        "! cp kaggle.json ~/.kaggle/"
      ],
      "metadata": {
        "id": "6hZQ9JRv5IuJ"
      },
      "execution_count": null,
      "outputs": []
    },
    {
      "cell_type": "code",
      "source": [
        "#permission for the json to act\n",
        "! chmod 600 ~/.kaggle/kaggle.jason"
      ],
      "metadata": {
        "colab": {
          "base_uri": "https://localhost:8080/"
        },
        "id": "nNdCmgNW5VfE",
        "outputId": "21609a6c-2d11-4471-8d84-1cea27e5dbe9"
      },
      "execution_count": null,
      "outputs": [
        {
          "output_type": "stream",
          "name": "stdout",
          "text": [
            "chmod: cannot access '/root/.kaggle/kaggle.jason': No such file or directory\n"
          ]
        }
      ]
    },
    {
      "cell_type": "code",
      "source": [
        "#to list all dataset in kaggle\n",
        "!kaggle datasets list"
      ],
      "metadata": {
        "colab": {
          "base_uri": "https://localhost:8080/"
        },
        "id": "BoqpP66G5hwc",
        "outputId": "3f8e8c4e-411b-4d1d-c9a0-70fe198bff7b"
      },
      "execution_count": null,
      "outputs": [
        {
          "output_type": "stream",
          "name": "stdout",
          "text": [
            "Warning: Your Kaggle API key is readable by other users on this system! To fix this, you can run 'chmod 600 /root/.kaggle/kaggle.json'\n",
            "Warning: Looks like you're using an outdated API Version, please consider updating (server 1.5.12 / client 1.5.4)\n",
            "ref                                                         title                                              size  lastUpdated          downloadCount  \n",
            "----------------------------------------------------------  ------------------------------------------------  -----  -------------------  -------------  \n",
            "gpreda/reddit-vaccine-myths                                 Reddit Vaccine Myths                              237KB  2021-12-12 11:59:54          17709  \n",
            "crowww/a-large-scale-fish-dataset                           A Large Scale Fish Dataset                          3GB  2021-04-28 17:03:01          10556  \n",
            "imsparsh/musicnet-dataset                                   MusicNet Dataset                                   22GB  2021-02-18 14:12:19           5214  \n",
            "dhruvildave/wikibooks-dataset                               Wikibooks Dataset                                   2GB  2021-10-22 10:48:21           3804  \n",
            "promptcloud/careerbuilder-job-listing-2020                  Careerbuilder Job Listing 2020                     42MB  2021-03-05 06:59:52           2974  \n",
            "fatiimaezzahra/famous-iconic-women                          Famous Iconic Women                               838MB  2021-02-28 14:56:00           2112  \n",
            "nickuzmenkov/nih-chest-xrays-tfrecords                      NIH Chest X-rays TFRecords                         11GB  2021-03-09 04:49:23           1810  \n",
            "alsgroup/end-als                                            End ALS Kaggle Challenge                           12GB  2021-04-08 12:16:37           1163  \n",
            "simiotic/github-code-snippets                               GitHub Code Snippets                                7GB  2021-03-03 11:34:39            549  \n",
            "coloradokb/dandelionimages                                  DandelionImages                                     4GB  2021-02-19 20:03:47           1087  \n",
            "landrykezebou/lvzhdr-tone-mapping-benchmark-dataset-tmonet  LVZ-HDR Tone Mapping Benchmark Dataset (TMO-Net)   24GB  2021-03-01 05:03:40            260  \n",
            "stuartjames/lights                                          LightS: Light Specularity Dataset                  18GB  2021-02-18 14:32:26            246  \n",
            "nickuzmenkov/ranzcr-clip-kfold-tfrecords                    RANZCR CLiP KFold TFRecords                         2GB  2021-02-21 13:29:51            169  \n",
            "imsparsh/accentdb-core-extended                             AccentDB - Core & Extended                          6GB  2021-02-17 14:22:54            201  \n",
            "datasnaek/youtube-new                                       Trending YouTube Video Statistics                 201MB  2019-06-03 00:56:47         161260  \n",
            "zynicide/wine-reviews                                       Wine Reviews                                       51MB  2017-11-27 17:08:04         150852  \n",
            "residentmario/ramen-ratings                                 Ramen Ratings                                      40KB  2018-01-11 16:04:39          31097  \n",
            "datasnaek/chess                                             Chess Game Dataset (Lichess)                        3MB  2017-09-04 03:09:09          26271  \n",
            "rtatman/188-million-us-wildfires                            1.88 Million US Wildfires                         168MB  2020-05-12 21:03:49          18310  \n",
            "jpmiller/publicassistance                                   US Public Food Assistance                         703KB  2020-08-21 16:51:18          15012  \n"
          ]
        }
      ]
    },
    {
      "cell_type": "code",
      "source": [
        "!kaggle datasets download -d sudalairajkumar/daily-temperature-of-major-cities"
      ],
      "metadata": {
        "colab": {
          "base_uri": "https://localhost:8080/"
        },
        "id": "FUEUYTXq5skE",
        "outputId": "a6b11e4a-42ac-4005-e254-ccb639d96ef5"
      },
      "execution_count": null,
      "outputs": [
        {
          "output_type": "stream",
          "name": "stdout",
          "text": [
            "Warning: Your Kaggle API key is readable by other users on this system! To fix this, you can run 'chmod 600 /root/.kaggle/kaggle.json'\n",
            "Downloading daily-temperature-of-major-cities.zip to /content\n",
            " 70% 9.00M/12.9M [00:00<00:00, 89.0MB/s]\n",
            "100% 12.9M/12.9M [00:00<00:00, 82.6MB/s]\n"
          ]
        }
      ]
    },
    {
      "cell_type": "code",
      "source": [
        "!unzip daily-temperature-of-major-cities.zip"
      ],
      "metadata": {
        "colab": {
          "base_uri": "https://localhost:8080/"
        },
        "id": "TLKpUVL16IyQ",
        "outputId": "d28b6ded-f2c9-412d-d518-1f8e4df05194"
      },
      "execution_count": null,
      "outputs": [
        {
          "output_type": "stream",
          "name": "stdout",
          "text": [
            "Archive:  daily-temperature-of-major-cities.zip\n",
            "  inflating: city_temperature.csv    \n"
          ]
        }
      ]
    },
    {
      "cell_type": "markdown",
      "source": [
        "**PS.**<br>\n",
        "• This was my first hands on with data analysis, and I gave my best for the same. One of the tasks given was we have to fetch the data (temperature values) from another website and add it to given data set as a new column.<br><br>\n",
        "•I tried my best to complete the given task, in this process I got to know about ***Web Scraping*** and ***beautifulsoup***. I got a temperature values dataset from ***Kaggle*** but even after spending time on learning web scraping, I didn't understand how to import particular column from another website to our dataset. But I tried my best for the same.<br><br>\n",
        "• Then I tried importing whole Kaggle dataset directly to my dataset. But now I don't have more time to work on it as today is the deadline.<br><br>\n",
        "• I have spent 24+ hours on this and till this much I have completed. I am sure that if I get to be a part of this internship I'll give my best and most importantly I'll get to learn alot."
      ],
      "metadata": {
        "id": "ttqgkkmN8jgu"
      }
    },
    {
      "cell_type": "code",
      "source": [
        ""
      ],
      "metadata": {
        "id": "6hNffIt6-mf4"
      },
      "execution_count": null,
      "outputs": []
    }
  ]
}